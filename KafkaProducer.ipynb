{
 "cells": [
  {
   "cell_type": "code",
   "execution_count": 1,
   "id": "e2d3f594",
   "metadata": {},
   "outputs": [
    {
     "name": "stdout",
     "output_type": "stream",
     "text": [
      "Collecting kafka-python\n",
      "  Downloading kafka_python-2.0.2-py2.py3-none-any.whl (246 kB)\n",
      "\u001b[K     |████████████████████████████████| 246 kB 3.6 MB/s eta 0:00:01\n",
      "\u001b[?25hInstalling collected packages: kafka-python\n",
      "Successfully installed kafka-python-2.0.2\n"
     ]
    }
   ],
   "source": [
    "!pip install kafka-python"
   ]
  },
  {
   "cell_type": "code",
   "execution_count": 10,
   "id": "f19405f0",
   "metadata": {},
   "outputs": [],
   "source": [
    "import pandas as pd\n",
    "from kafka import KafkaProducer\n",
    "from time import sleep\n",
    "from json import dumps\n",
    "import json"
   ]
  },
  {
   "cell_type": "code",
   "execution_count": 11,
   "id": "b483a0e4",
   "metadata": {},
   "outputs": [],
   "source": [
    "producer = KafkaProducer(bootstrap_servers=['18.189.182.178:9092'], #change ip here\n",
    "                         value_serializer=lambda x: \n",
    "                         dumps(x).encode('utf-8'))"
   ]
  },
  {
   "cell_type": "code",
   "execution_count": 12,
   "id": "0c30b915",
   "metadata": {},
   "outputs": [],
   "source": [
    "# producer.send('aws_kafka_demo', value={'surname':'Saji'})"
   ]
  },
  {
   "cell_type": "code",
   "execution_count": 13,
   "id": "cc8d45aa",
   "metadata": {},
   "outputs": [],
   "source": [
    "df = pd.read_csv(\"data/Amazon-Bestseller-Dataset.csv\")"
   ]
  },
  {
   "cell_type": "code",
   "execution_count": 14,
   "id": "113a2516",
   "metadata": {},
   "outputs": [
    {
     "data": {
      "text/html": [
       "<div>\n",
       "<style scoped>\n",
       "    .dataframe tbody tr th:only-of-type {\n",
       "        vertical-align: middle;\n",
       "    }\n",
       "\n",
       "    .dataframe tbody tr th {\n",
       "        vertical-align: top;\n",
       "    }\n",
       "\n",
       "    .dataframe thead th {\n",
       "        text-align: right;\n",
       "    }\n",
       "</style>\n",
       "<table border=\"1\" class=\"dataframe\">\n",
       "  <thead>\n",
       "    <tr style=\"text-align: right;\">\n",
       "      <th></th>\n",
       "      <th>product_id</th>\n",
       "      <th>title</th>\n",
       "      <th>availability</th>\n",
       "      <th>brand</th>\n",
       "      <th>categories</th>\n",
       "      <th>price (USD)</th>\n",
       "      <th>seller_id</th>\n",
       "      <th>seller_name</th>\n",
       "      <th>url</th>\n",
       "    </tr>\n",
       "  </thead>\n",
       "  <tbody>\n",
       "    <tr>\n",
       "      <th>0</th>\n",
       "      <td>B085W4DHVN</td>\n",
       "      <td>Truck Boys Room Light Switch Cover Plate Kids ...</td>\n",
       "      <td>In Stock</td>\n",
       "      <td>CreateAMural</td>\n",
       "      <td>Baby Products Nursery Décor Switch Plates</td>\n",
       "      <td>$12.99</td>\n",
       "      <td>A1KV5RXSKLLFE2</td>\n",
       "      <td>CreateAMuralCreateAMural</td>\n",
       "      <td>https://www.amazon.com/dp/B085W4DHVN</td>\n",
       "    </tr>\n",
       "    <tr>\n",
       "      <th>1</th>\n",
       "      <td>B0087S48E6</td>\n",
       "      <td>Rubbermaid Commercial Products Stackable Recyc...</td>\n",
       "      <td>In Stock</td>\n",
       "      <td>Rubbermaid Commercial Products</td>\n",
       "      <td>Industrial &amp; Scientific Janitorial &amp; Sanitatio...</td>\n",
       "      <td>$28.93</td>\n",
       "      <td>ATVPDKIKX0DER</td>\n",
       "      <td>Amazon</td>\n",
       "      <td>https://www.amazon.com/dp/B0087S48E6</td>\n",
       "    </tr>\n",
       "    <tr>\n",
       "      <th>2</th>\n",
       "      <td>B07NSNR161</td>\n",
       "      <td>POKONBOY Compatible with Nerf Darts Bullets  1...</td>\n",
       "      <td>Only 4 left in stock</td>\n",
       "      <td>POKONBOY</td>\n",
       "      <td>Toys &amp; Games Sports &amp; Outdoor Play Blasters &amp; ...</td>\n",
       "      <td>$34.99</td>\n",
       "      <td>A39451JRCPJ1BJ</td>\n",
       "      <td>POKONBOYPOKONBOY</td>\n",
       "      <td>https://www.amazon.com/dp/B07NSNR161</td>\n",
       "    </tr>\n",
       "    <tr>\n",
       "      <th>3</th>\n",
       "      <td>B076RHQZSD</td>\n",
       "      <td>500 Pack ONLY for BAM Machines Pin Buttons  Ge...</td>\n",
       "      <td>In Stock</td>\n",
       "      <td>Upick Deals</td>\n",
       "      <td>Office Products Office &amp; School Supplies Label...</td>\n",
       "      <td>$95.04</td>\n",
       "      <td>A3MM22DH9OQQ1K</td>\n",
       "      <td>Upick DealsUpick Deals</td>\n",
       "      <td>https://www.amazon.com/dp/B076RHQZSD</td>\n",
       "    </tr>\n",
       "    <tr>\n",
       "      <th>4</th>\n",
       "      <td>B0919G7J9L</td>\n",
       "      <td>8 Inch Air Fryer Accessories Set of 7 with Egg...</td>\n",
       "      <td>In Stock</td>\n",
       "      <td>TINMIX</td>\n",
       "      <td>Home &amp; Kitchen Kitchen &amp; Dining Small Applianc...</td>\n",
       "      <td>$15.99</td>\n",
       "      <td>A1Q1DPDXCXPVZX</td>\n",
       "      <td>TINMIX StoreTINMIX Store</td>\n",
       "      <td>https://www.amazon.com/dp/B0919G7J9L</td>\n",
       "    </tr>\n",
       "  </tbody>\n",
       "</table>\n",
       "</div>"
      ],
      "text/plain": [
       "   product_id                                              title  \\\n",
       "0  B085W4DHVN  Truck Boys Room Light Switch Cover Plate Kids ...   \n",
       "1  B0087S48E6  Rubbermaid Commercial Products Stackable Recyc...   \n",
       "2  B07NSNR161  POKONBOY Compatible with Nerf Darts Bullets  1...   \n",
       "3  B076RHQZSD  500 Pack ONLY for BAM Machines Pin Buttons  Ge...   \n",
       "4  B0919G7J9L  8 Inch Air Fryer Accessories Set of 7 with Egg...   \n",
       "\n",
       "           availability                           brand  \\\n",
       "0              In Stock                    CreateAMural   \n",
       "1              In Stock  Rubbermaid Commercial Products   \n",
       "2  Only 4 left in stock                        POKONBOY   \n",
       "3              In Stock                     Upick Deals   \n",
       "4              In Stock                          TINMIX   \n",
       "\n",
       "                                          categories price (USD)  \\\n",
       "0          Baby Products Nursery Décor Switch Plates     $12.99    \n",
       "1  Industrial & Scientific Janitorial & Sanitatio...     $28.93    \n",
       "2  Toys & Games Sports & Outdoor Play Blasters & ...     $34.99    \n",
       "3  Office Products Office & School Supplies Label...     $95.04    \n",
       "4  Home & Kitchen Kitchen & Dining Small Applianc...     $15.99    \n",
       "\n",
       "        seller_id               seller_name  \\\n",
       "0  A1KV5RXSKLLFE2  CreateAMuralCreateAMural   \n",
       "1   ATVPDKIKX0DER                    Amazon   \n",
       "2  A39451JRCPJ1BJ          POKONBOYPOKONBOY   \n",
       "3  A3MM22DH9OQQ1K    Upick DealsUpick Deals   \n",
       "4  A1Q1DPDXCXPVZX  TINMIX StoreTINMIX Store   \n",
       "\n",
       "                                    url  \n",
       "0  https://www.amazon.com/dp/B085W4DHVN  \n",
       "1  https://www.amazon.com/dp/B0087S48E6  \n",
       "2  https://www.amazon.com/dp/B07NSNR161  \n",
       "3  https://www.amazon.com/dp/B076RHQZSD  \n",
       "4  https://www.amazon.com/dp/B0919G7J9L  "
      ]
     },
     "execution_count": 14,
     "metadata": {},
     "output_type": "execute_result"
    }
   ],
   "source": [
    "df.head()"
   ]
  },
  {
   "cell_type": "code",
   "execution_count": 8,
   "id": "6c613770",
   "metadata": {},
   "outputs": [
    {
     "data": {
      "text/plain": [
       "49761"
      ]
     },
     "execution_count": 8,
     "metadata": {},
     "output_type": "execute_result"
    }
   ],
   "source": [
    "df.shape[0]"
   ]
  },
  {
   "cell_type": "code",
   "execution_count": null,
   "id": "89fb165a",
   "metadata": {},
   "outputs": [],
   "source": []
  },
  {
   "cell_type": "code",
   "execution_count": 15,
   "id": "4c7ec0be",
   "metadata": {},
   "outputs": [
    {
     "ename": "KeyboardInterrupt",
     "evalue": "",
     "output_type": "error",
     "traceback": [
      "\u001b[0;31m---------------------------------------------------------------------------\u001b[0m",
      "\u001b[0;31mKeyboardInterrupt\u001b[0m                         Traceback (most recent call last)",
      "Input \u001b[0;32mIn [15]\u001b[0m, in \u001b[0;36m<cell line: 2>\u001b[0;34m()\u001b[0m\n\u001b[1;32m      1\u001b[0m \u001b[38;5;28;01mwhile\u001b[39;00m \u001b[38;5;28;01mTrue\u001b[39;00m:\n\u001b[0;32m----> 2\u001b[0m     dict_stock \u001b[38;5;241m=\u001b[39m \u001b[43mdf\u001b[49m\u001b[38;5;241;43m.\u001b[39;49m\u001b[43msample\u001b[49m\u001b[43m(\u001b[49m\u001b[38;5;241;43m1\u001b[39;49m\u001b[43m)\u001b[49m\u001b[38;5;241m.\u001b[39mto_dict(orient\u001b[38;5;241m=\u001b[39m\u001b[38;5;124m\"\u001b[39m\u001b[38;5;124mrecords\u001b[39m\u001b[38;5;124m\"\u001b[39m)[\u001b[38;5;241m0\u001b[39m]\n\u001b[1;32m      3\u001b[0m     producer\u001b[38;5;241m.\u001b[39msend(\u001b[38;5;124m'\u001b[39m\u001b[38;5;124maws_kafka_demo\u001b[39m\u001b[38;5;124m'\u001b[39m, value\u001b[38;5;241m=\u001b[39mdict_stock)\n",
      "File \u001b[0;32m~/opt/anaconda3/lib/python3.9/site-packages/pandas/core/generic.py:5773\u001b[0m, in \u001b[0;36mNDFrame.sample\u001b[0;34m(self, n, frac, replace, weights, random_state, axis, ignore_index)\u001b[0m\n\u001b[1;32m   5770\u001b[0m \u001b[38;5;28;01mif\u001b[39;00m weights \u001b[38;5;129;01mis\u001b[39;00m \u001b[38;5;129;01mnot\u001b[39;00m \u001b[38;5;28;01mNone\u001b[39;00m:\n\u001b[1;32m   5771\u001b[0m     weights \u001b[38;5;241m=\u001b[39m sample\u001b[38;5;241m.\u001b[39mpreprocess_weights(\u001b[38;5;28mself\u001b[39m, weights, axis)\n\u001b[0;32m-> 5773\u001b[0m sampled_indices \u001b[38;5;241m=\u001b[39m \u001b[43msample\u001b[49m\u001b[38;5;241;43m.\u001b[39;49m\u001b[43msample\u001b[49m\u001b[43m(\u001b[49m\u001b[43mobj_len\u001b[49m\u001b[43m,\u001b[49m\u001b[43m \u001b[49m\u001b[43msize\u001b[49m\u001b[43m,\u001b[49m\u001b[43m \u001b[49m\u001b[43mreplace\u001b[49m\u001b[43m,\u001b[49m\u001b[43m \u001b[49m\u001b[43mweights\u001b[49m\u001b[43m,\u001b[49m\u001b[43m \u001b[49m\u001b[43mrs\u001b[49m\u001b[43m)\u001b[49m\n\u001b[1;32m   5774\u001b[0m result \u001b[38;5;241m=\u001b[39m \u001b[38;5;28mself\u001b[39m\u001b[38;5;241m.\u001b[39mtake(sampled_indices, axis\u001b[38;5;241m=\u001b[39maxis)\n\u001b[1;32m   5776\u001b[0m \u001b[38;5;28;01mif\u001b[39;00m ignore_index:\n",
      "File \u001b[0;32m~/opt/anaconda3/lib/python3.9/site-packages/pandas/core/sample.py:150\u001b[0m, in \u001b[0;36msample\u001b[0;34m(obj_len, size, replace, weights, random_state)\u001b[0m\n\u001b[1;32m    147\u001b[0m     \u001b[38;5;28;01melse\u001b[39;00m:\n\u001b[1;32m    148\u001b[0m         \u001b[38;5;28;01mraise\u001b[39;00m \u001b[38;5;167;01mValueError\u001b[39;00m(\u001b[38;5;124m\"\u001b[39m\u001b[38;5;124mInvalid weights: weights sum to zero\u001b[39m\u001b[38;5;124m\"\u001b[39m)\n\u001b[0;32m--> 150\u001b[0m \u001b[38;5;28;01mreturn\u001b[39;00m \u001b[43mrandom_state\u001b[49m\u001b[38;5;241;43m.\u001b[39;49m\u001b[43mchoice\u001b[49m\u001b[43m(\u001b[49m\u001b[43mobj_len\u001b[49m\u001b[43m,\u001b[49m\u001b[43m \u001b[49m\u001b[43msize\u001b[49m\u001b[38;5;241;43m=\u001b[39;49m\u001b[43msize\u001b[49m\u001b[43m,\u001b[49m\u001b[43m \u001b[49m\u001b[43mreplace\u001b[49m\u001b[38;5;241;43m=\u001b[39;49m\u001b[43mreplace\u001b[49m\u001b[43m,\u001b[49m\u001b[43m \u001b[49m\u001b[43mp\u001b[49m\u001b[38;5;241;43m=\u001b[39;49m\u001b[43mweights\u001b[49m\u001b[43m)\u001b[49m\u001b[38;5;241m.\u001b[39mastype(\n\u001b[1;32m    151\u001b[0m     np\u001b[38;5;241m.\u001b[39mintp, copy\u001b[38;5;241m=\u001b[39m\u001b[38;5;28;01mFalse\u001b[39;00m\n\u001b[1;32m    152\u001b[0m )\n",
      "\u001b[0;31mKeyboardInterrupt\u001b[0m: "
     ]
    }
   ],
   "source": [
    "while True:\n",
    "    dict_stock = df.sample(1).to_dict(orient=\"records\")[0]\n",
    "    producer.send('aws_kafka_demo', value=dict_stock)\n",
    "#     sleep(1)"
   ]
  },
  {
   "cell_type": "code",
   "execution_count": 16,
   "id": "ed71c0e4",
   "metadata": {},
   "outputs": [],
   "source": [
    "producer.flush() #clear data from kafka server"
   ]
  },
  {
   "cell_type": "code",
   "execution_count": null,
   "id": "5991d10f",
   "metadata": {},
   "outputs": [],
   "source": []
  },
  {
   "cell_type": "code",
   "execution_count": null,
   "id": "3632d61d",
   "metadata": {},
   "outputs": [],
   "source": []
  }
 ],
 "metadata": {
  "kernelspec": {
   "display_name": "Python 3 (ipykernel)",
   "language": "python",
   "name": "python3"
  },
  "language_info": {
   "codemirror_mode": {
    "name": "ipython",
    "version": 3
   },
   "file_extension": ".py",
   "mimetype": "text/x-python",
   "name": "python",
   "nbconvert_exporter": "python",
   "pygments_lexer": "ipython3",
   "version": "3.9.12"
  }
 },
 "nbformat": 4,
 "nbformat_minor": 5
}
